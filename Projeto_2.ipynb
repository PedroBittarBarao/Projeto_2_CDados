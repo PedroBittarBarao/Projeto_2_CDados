{
 "cells": [
  {
   "cell_type": "markdown",
   "metadata": {},
   "source": [
    "# Projeto 2 - Ciência dos Dados\n",
    "\n",
    "## Integrantes:\n",
    "* Gabriela Kimi\n",
    "* Luiza Ehrenberger\n",
    "* Pedro Barão\n",
    "* Rafael Paolino"
   ]
  },
  {
   "cell_type": "markdown",
   "metadata": {},
   "source": [
    "## Introdução:\n",
    "\n",
    "## Objetivo: fazer uso de métodos de regressão para prever o preço de carros, usando suas características como base.\n",
    "\n",
    "Para isso, fizemos uso de uma base de dados que leva em conta as características de um carro e o preço sugerido pelo fabricante. Alguns atributos utilizados para estimar o preço são: \n",
    "\n",
    "* marca\n",
    "* modelo\n",
    "* ano de fabricação\n",
    "* tipo de motor\n",
    "\n",
    "<a href= \" https://www.kaggle.com/CooperUnion/cardataset \" > Link para a base de dados \"Car Features and MSRP\"</a>"
   ]
  },
  {
   "cell_type": "markdown",
   "metadata": {},
   "source": [
    "### Importando as bibiotecas necessárias: "
   ]
  },
  {
   "cell_type": "code",
   "execution_count": 1024,
   "metadata": {},
   "outputs": [],
   "source": [
    "%matplotlib notebook\n",
    "\n",
    "import pandas as pd\n",
    "import numpy as np\n",
    "from scipy.stats import norm, probplot\n",
    "import statsmodels.api as sm\n",
    "import matplotlib.pyplot as plt\n",
    "from statsmodels.formula.api import ols\n",
    "from sklearn.tree import DecisionTreeRegressor \n",
    "from sklearn.preprocessing import OneHotEncoder\n",
    "from IPython.display import display\n",
    "import seaborn as sns"
   ]
  },
  {
   "cell_type": "markdown",
   "metadata": {},
   "source": [
    "### Função de regressão linear:\n",
    "\n",
    "#### Y: coluna do DataFrame utilizada como variável resposta. (TARGET)\n",
    "#### X: coluna(s) do DataFrame utilizada(s) como variável(is) explicativas. (FEATURES)"
   ]
  },
  {
   "cell_type": "code",
   "execution_count": 1025,
   "metadata": {},
   "outputs": [],
   "source": [
    "def regress(Y,X):\n",
    "    X_cp = sm.add_constant(X)\n",
    "    model = sm.OLS(Y,X_cp)\n",
    "    results = model.fit()\n",
    "    \n",
    "    return results"
   ]
  },
  {
   "cell_type": "markdown",
   "metadata": {},
   "source": [
    "### DataFrame da base de dados"
   ]
  },
  {
   "cell_type": "code",
   "execution_count": 1026,
   "metadata": {},
   "outputs": [],
   "source": [
    "data = pd.read_csv(\"data.csv\")"
   ]
  },
  {
   "cell_type": "code",
   "execution_count": 1027,
   "metadata": {},
   "outputs": [
    {
     "data": {
      "text/html": [
       "<div>\n",
       "<style scoped>\n",
       "    .dataframe tbody tr th:only-of-type {\n",
       "        vertical-align: middle;\n",
       "    }\n",
       "\n",
       "    .dataframe tbody tr th {\n",
       "        vertical-align: top;\n",
       "    }\n",
       "\n",
       "    .dataframe thead th {\n",
       "        text-align: right;\n",
       "    }\n",
       "</style>\n",
       "<table border=\"1\" class=\"dataframe\">\n",
       "  <thead>\n",
       "    <tr style=\"text-align: right;\">\n",
       "      <th></th>\n",
       "      <th>Make</th>\n",
       "      <th>Model</th>\n",
       "      <th>Year</th>\n",
       "      <th>Engine Fuel Type</th>\n",
       "      <th>Engine HP</th>\n",
       "      <th>Engine Cylinders</th>\n",
       "      <th>Transmission Type</th>\n",
       "      <th>Driven_Wheels</th>\n",
       "      <th>Number of Doors</th>\n",
       "      <th>Market Category</th>\n",
       "      <th>Vehicle Size</th>\n",
       "      <th>Vehicle Style</th>\n",
       "      <th>highway MPG</th>\n",
       "      <th>city mpg</th>\n",
       "      <th>Popularity</th>\n",
       "      <th>MSRP</th>\n",
       "    </tr>\n",
       "  </thead>\n",
       "  <tbody>\n",
       "    <tr>\n",
       "      <th>0</th>\n",
       "      <td>BMW</td>\n",
       "      <td>1 Series M</td>\n",
       "      <td>2011</td>\n",
       "      <td>premium unleaded (required)</td>\n",
       "      <td>335.0</td>\n",
       "      <td>6.0</td>\n",
       "      <td>MANUAL</td>\n",
       "      <td>rear wheel drive</td>\n",
       "      <td>2.0</td>\n",
       "      <td>Factory Tuner,Luxury,High-Performance</td>\n",
       "      <td>Compact</td>\n",
       "      <td>Coupe</td>\n",
       "      <td>26</td>\n",
       "      <td>19</td>\n",
       "      <td>3916</td>\n",
       "      <td>46135</td>\n",
       "    </tr>\n",
       "    <tr>\n",
       "      <th>1</th>\n",
       "      <td>BMW</td>\n",
       "      <td>1 Series</td>\n",
       "      <td>2011</td>\n",
       "      <td>premium unleaded (required)</td>\n",
       "      <td>300.0</td>\n",
       "      <td>6.0</td>\n",
       "      <td>MANUAL</td>\n",
       "      <td>rear wheel drive</td>\n",
       "      <td>2.0</td>\n",
       "      <td>Luxury,Performance</td>\n",
       "      <td>Compact</td>\n",
       "      <td>Convertible</td>\n",
       "      <td>28</td>\n",
       "      <td>19</td>\n",
       "      <td>3916</td>\n",
       "      <td>40650</td>\n",
       "    </tr>\n",
       "    <tr>\n",
       "      <th>2</th>\n",
       "      <td>BMW</td>\n",
       "      <td>1 Series</td>\n",
       "      <td>2011</td>\n",
       "      <td>premium unleaded (required)</td>\n",
       "      <td>300.0</td>\n",
       "      <td>6.0</td>\n",
       "      <td>MANUAL</td>\n",
       "      <td>rear wheel drive</td>\n",
       "      <td>2.0</td>\n",
       "      <td>Luxury,High-Performance</td>\n",
       "      <td>Compact</td>\n",
       "      <td>Coupe</td>\n",
       "      <td>28</td>\n",
       "      <td>20</td>\n",
       "      <td>3916</td>\n",
       "      <td>36350</td>\n",
       "    </tr>\n",
       "  </tbody>\n",
       "</table>\n",
       "</div>"
      ],
      "text/plain": [
       "  Make       Model  Year             Engine Fuel Type  Engine HP  \\\n",
       "0  BMW  1 Series M  2011  premium unleaded (required)      335.0   \n",
       "1  BMW    1 Series  2011  premium unleaded (required)      300.0   \n",
       "2  BMW    1 Series  2011  premium unleaded (required)      300.0   \n",
       "\n",
       "   Engine Cylinders Transmission Type     Driven_Wheels  Number of Doors  \\\n",
       "0               6.0            MANUAL  rear wheel drive              2.0   \n",
       "1               6.0            MANUAL  rear wheel drive              2.0   \n",
       "2               6.0            MANUAL  rear wheel drive              2.0   \n",
       "\n",
       "                         Market Category Vehicle Size Vehicle Style  \\\n",
       "0  Factory Tuner,Luxury,High-Performance      Compact         Coupe   \n",
       "1                     Luxury,Performance      Compact   Convertible   \n",
       "2                Luxury,High-Performance      Compact         Coupe   \n",
       "\n",
       "   highway MPG  city mpg  Popularity   MSRP  \n",
       "0           26        19        3916  46135  \n",
       "1           28        19        3916  40650  \n",
       "2           28        20        3916  36350  "
      ]
     },
     "execution_count": 1027,
     "metadata": {},
     "output_type": "execute_result"
    }
   ],
   "source": [
    "data.head(3)"
   ]
  },
  {
   "cell_type": "markdown",
   "metadata": {},
   "source": [
    "## Mineirando Dados e Características do Dataset\n",
    "\n",
    "### Colunas que serão utilizadas: "
   ]
  },
  {
   "cell_type": "code",
   "execution_count": 1028,
   "metadata": {},
   "outputs": [
    {
     "data": {
      "text/plain": [
       "Index(['Make', 'Model', 'Year', 'Engine Fuel Type', 'Engine HP',\n",
       "       'Engine Cylinders', 'Transmission Type', 'Driven_Wheels',\n",
       "       'Number of Doors', 'Market Category', 'Vehicle Size', 'Vehicle Style',\n",
       "       'highway MPG', 'city mpg', 'MSRP'],\n",
       "      dtype='object')"
      ]
     },
     "execution_count": 1028,
     "metadata": {},
     "output_type": "execute_result"
    }
   ],
   "source": [
    "data=data.drop('Popularity',axis=1)\n",
    "data.columns"
   ]
  },
  {
   "cell_type": "markdown",
   "metadata": {},
   "source": [
    "### Descrevendo as variáveis que serão utilizadas:"
   ]
  },
  {
   "cell_type": "markdown",
   "metadata": {},
   "source": [
    "* Make - Marca do carro \n",
    "* Modelo - Modelo do carro \n",
    "* Year - Ano de lançamento do carro \n",
    "* Engine Fuel Type - Tipo de combustível utilizado \n",
    "* Engine HP - Potência do motor (HP)\n",
    "* Engine Cylinders - Número de cilindros do motor \n",
    "* Transmission Type - Tipo de transmissão (Câmbio)\n",
    "* Driven wheels - Tipo de tração\n",
    "* Number of doors - Número de portas \n",
    "* Market Category - Categorias usadas no mercado \n",
    "* Vehicle Size - Classificação do tamanho do veículo \n",
    "* Vehicle Style - Classificação de estilo do veículo\n",
    "* Highway MPG - Média de rendimento de gasolina na auto-estrada (milhas por galão)\n",
    "* City MPG - Média de rendimento de gasolina na cidade (milhas por galão)\n",
    "* MSRP - preço de varejo recomendado pelo fabricante do carro (dólares)"
   ]
  },
  {
   "cell_type": "markdown",
   "metadata": {},
   "source": [
    "## Remoção de células sem valores"
   ]
  },
  {
   "cell_type": "code",
   "execution_count": 1029,
   "metadata": {},
   "outputs": [
    {
     "data": {
      "text/plain": [
       "Make                 0\n",
       "Model                0\n",
       "Year                 0\n",
       "Engine Fuel Type     0\n",
       "Engine HP            0\n",
       "Engine Cylinders     0\n",
       "Transmission Type    0\n",
       "Driven_Wheels        0\n",
       "Number of Doors      0\n",
       "Market Category      0\n",
       "Vehicle Size         0\n",
       "Vehicle Style        0\n",
       "highway MPG          0\n",
       "city mpg             0\n",
       "MSRP                 0\n",
       "dtype: int64"
      ]
     },
     "execution_count": 1029,
     "metadata": {},
     "output_type": "execute_result"
    }
   ],
   "source": [
    "data=data.dropna()  \n",
    "data.isnull().sum()"
   ]
  },
  {
   "cell_type": "markdown",
   "metadata": {},
   "source": [
    "### Codificação de colunas categóricas para integer e hot encode:\n"
   ]
  },
  {
   "cell_type": "code",
   "execution_count": 1030,
   "metadata": {},
   "outputs": [],
   "source": [
    "data=data.drop(['Make','Model','Vehicle Style','Market Category'],axis=1)\n",
    "data_2=pd.get_dummies(data)"
   ]
  },
  {
   "cell_type": "markdown",
   "metadata": {},
   "source": [
    "## Criação de DataFrames de treinamento e de teste:"
   ]
  },
  {
   "cell_type": "code",
   "execution_count": 1031,
   "metadata": {},
   "outputs": [],
   "source": [
    "train = data.sample(7200)"
   ]
  },
  {
   "cell_type": "code",
   "execution_count": 1032,
   "metadata": {},
   "outputs": [],
   "source": [
    "train= data_2.sample(frac=0.9)\n",
    "\n",
    "test=data_2.drop(train.index)"
   ]
  },
  {
   "cell_type": "code",
   "execution_count": 1033,
   "metadata": {},
   "outputs": [
    {
     "data": {
      "text/plain": [
       "Index(['Year', 'Engine HP', 'Engine Cylinders', 'Number of Doors',\n",
       "       'highway MPG', 'city mpg', 'MSRP', 'Engine Fuel Type_diesel',\n",
       "       'Engine Fuel Type_electric',\n",
       "       'Engine Fuel Type_flex-fuel (premium unleaded recommended/E85)',\n",
       "       'Engine Fuel Type_flex-fuel (premium unleaded required/E85)',\n",
       "       'Engine Fuel Type_flex-fuel (unleaded/E85)',\n",
       "       'Engine Fuel Type_premium unleaded (recommended)',\n",
       "       'Engine Fuel Type_premium unleaded (required)',\n",
       "       'Engine Fuel Type_regular unleaded',\n",
       "       'Transmission Type_AUTOMATED_MANUAL', 'Transmission Type_AUTOMATIC',\n",
       "       'Transmission Type_DIRECT_DRIVE', 'Transmission Type_MANUAL',\n",
       "       'Transmission Type_UNKNOWN', 'Driven_Wheels_all wheel drive',\n",
       "       'Driven_Wheels_four wheel drive', 'Driven_Wheels_front wheel drive',\n",
       "       'Driven_Wheels_rear wheel drive', 'Vehicle Size_Compact',\n",
       "       'Vehicle Size_Large', 'Vehicle Size_Midsize'],\n",
       "      dtype='object')"
      ]
     },
     "execution_count": 1033,
     "metadata": {},
     "output_type": "execute_result"
    }
   ],
   "source": [
    "train.columns"
   ]
  },
  {
   "cell_type": "markdown",
   "metadata": {},
   "source": [
    "### Plotagem de gráficos scatter"
   ]
  },
  {
   "cell_type": "code",
   "execution_count": 1034,
   "metadata": {},
   "outputs": [],
   "source": [
    "#sns.pairplot(train_2)"
   ]
  },
  {
   "cell_type": "markdown",
   "metadata": {},
   "source": [
    "## Modelos de Predição"
   ]
  },
  {
   "cell_type": "markdown",
   "metadata": {},
   "source": [
    "### Explicar o que caea modelo de predição faz e explicar como funciona a biblioteca escolhida"
   ]
  },
  {
   "cell_type": "markdown",
   "metadata": {},
   "source": [
    "### Regressão linear MMQ:"
   ]
  },
  {
   "cell_type": "code",
   "execution_count": 1035,
   "metadata": {},
   "outputs": [
    {
     "name": "stderr",
     "output_type": "stream",
     "text": [
      "D:\\Anaconda3\\lib\\site-packages\\statsmodels\\tsa\\tsatools.py:142: FutureWarning: In a future version of pandas all arguments of concat except for the argument 'objs' will be keyword-only\n",
      "  x = pd.concat(x[::order], 1)\n"
     ]
    },
    {
     "data": {
      "text/html": [
       "<table class=\"simpletable\">\n",
       "<caption>OLS Regression Results</caption>\n",
       "<tr>\n",
       "  <th>Dep. Variable:</th>          <td>MSRP</td>       <th>  R-squared:         </th> <td>   0.513</td> \n",
       "</tr>\n",
       "<tr>\n",
       "  <th>Model:</th>                   <td>OLS</td>       <th>  Adj. R-squared:    </th> <td>   0.512</td> \n",
       "</tr>\n",
       "<tr>\n",
       "  <th>Method:</th>             <td>Least Squares</td>  <th>  F-statistic:       </th> <td>   347.8</td> \n",
       "</tr>\n",
       "<tr>\n",
       "  <th>Date:</th>             <td>Mon, 29 Nov 2021</td> <th>  Prob (F-statistic):</th>  <td>  0.00</td>  \n",
       "</tr>\n",
       "<tr>\n",
       "  <th>Time:</th>                 <td>18:15:06</td>     <th>  Log-Likelihood:    </th> <td> -89031.</td> \n",
       "</tr>\n",
       "<tr>\n",
       "  <th>No. Observations:</th>      <td>  7276</td>      <th>  AIC:               </th> <td>1.781e+05</td>\n",
       "</tr>\n",
       "<tr>\n",
       "  <th>Df Residuals:</th>          <td>  7253</td>      <th>  BIC:               </th> <td>1.783e+05</td>\n",
       "</tr>\n",
       "<tr>\n",
       "  <th>Df Model:</th>              <td>    22</td>      <th>                     </th>     <td> </td>    \n",
       "</tr>\n",
       "<tr>\n",
       "  <th>Covariance Type:</th>      <td>nonrobust</td>    <th>                     </th>     <td> </td>    \n",
       "</tr>\n",
       "</table>\n",
       "<table class=\"simpletable\">\n",
       "<tr>\n",
       "                                <td></td>                                   <th>coef</th>     <th>std err</th>      <th>t</th>      <th>P>|t|</th>  <th>[0.025</th>    <th>0.975]</th>  \n",
       "</tr>\n",
       "<tr>\n",
       "  <th>const</th>                                                         <td>-1.254e+05</td> <td> 1.35e+05</td> <td>   -0.928</td> <td> 0.353</td> <td> -3.9e+05</td> <td>  1.4e+05</td>\n",
       "</tr>\n",
       "<tr>\n",
       "  <th>Year</th>                                                          <td>   45.8704</td> <td>  129.659</td> <td>    0.354</td> <td> 0.724</td> <td> -208.300</td> <td>  300.040</td>\n",
       "</tr>\n",
       "<tr>\n",
       "  <th>Engine HP</th>                                                     <td>  286.2689</td> <td>   12.530</td> <td>   22.846</td> <td> 0.000</td> <td>  261.706</td> <td>  310.832</td>\n",
       "</tr>\n",
       "<tr>\n",
       "  <th>Engine Cylinders</th>                                              <td> 1.372e+04</td> <td>  691.877</td> <td>   19.828</td> <td> 0.000</td> <td> 1.24e+04</td> <td> 1.51e+04</td>\n",
       "</tr>\n",
       "<tr>\n",
       "  <th>Number of Doors</th>                                               <td> -502.5436</td> <td>  841.118</td> <td>   -0.597</td> <td> 0.550</td> <td>-2151.380</td> <td> 1146.293</td>\n",
       "</tr>\n",
       "<tr>\n",
       "  <th>highway MPG</th>                                                   <td>  -18.1230</td> <td>  138.289</td> <td>   -0.131</td> <td> 0.896</td> <td> -289.211</td> <td>  252.965</td>\n",
       "</tr>\n",
       "<tr>\n",
       "  <th>city mpg</th>                                                      <td> 1291.6108</td> <td>  183.808</td> <td>    7.027</td> <td> 0.000</td> <td>  931.293</td> <td> 1651.929</td>\n",
       "</tr>\n",
       "<tr>\n",
       "  <th>Engine Fuel Type_diesel</th>                                       <td>  731.3560</td> <td> 1.87e+04</td> <td>    0.039</td> <td> 0.969</td> <td>-3.59e+04</td> <td> 3.74e+04</td>\n",
       "</tr>\n",
       "<tr>\n",
       "  <th>Engine Fuel Type_electric</th>                                     <td>-5.474e+04</td> <td> 3.64e+04</td> <td>   -1.502</td> <td> 0.133</td> <td>-1.26e+05</td> <td> 1.67e+04</td>\n",
       "</tr>\n",
       "<tr>\n",
       "  <th>Engine Fuel Type_flex-fuel (premium unleaded recommended/E85)</th> <td>-1.164e+04</td> <td> 2.06e+04</td> <td>   -0.564</td> <td> 0.573</td> <td>-5.21e+04</td> <td> 2.88e+04</td>\n",
       "</tr>\n",
       "<tr>\n",
       "  <th>Engine Fuel Type_flex-fuel (premium unleaded required/E85)</th>    <td>-2157.7792</td> <td> 1.92e+04</td> <td>   -0.112</td> <td> 0.911</td> <td>-3.98e+04</td> <td> 3.55e+04</td>\n",
       "</tr>\n",
       "<tr>\n",
       "  <th>Engine Fuel Type_flex-fuel (unleaded/E85)</th>                     <td>-2.423e+04</td> <td> 1.88e+04</td> <td>   -1.290</td> <td> 0.197</td> <td>-6.11e+04</td> <td> 1.26e+04</td>\n",
       "</tr>\n",
       "<tr>\n",
       "  <th>Engine Fuel Type_premium unleaded (recommended)</th>               <td>-1.774e+04</td> <td> 1.85e+04</td> <td>   -0.959</td> <td> 0.337</td> <td> -5.4e+04</td> <td> 1.85e+04</td>\n",
       "</tr>\n",
       "<tr>\n",
       "  <th>Engine Fuel Type_premium unleaded (required)</th>                  <td>  453.5657</td> <td> 1.83e+04</td> <td>    0.025</td> <td> 0.980</td> <td>-3.53e+04</td> <td> 3.63e+04</td>\n",
       "</tr>\n",
       "<tr>\n",
       "  <th>Engine Fuel Type_regular unleaded</th>                             <td> -1.61e+04</td> <td> 1.82e+04</td> <td>   -0.885</td> <td> 0.376</td> <td>-5.17e+04</td> <td> 1.96e+04</td>\n",
       "</tr>\n",
       "<tr>\n",
       "  <th>Transmission Type_AUTOMATED_MANUAL</th>                            <td> 6207.6604</td> <td> 2.86e+04</td> <td>    0.217</td> <td> 0.828</td> <td>-4.99e+04</td> <td> 6.23e+04</td>\n",
       "</tr>\n",
       "<tr>\n",
       "  <th>Transmission Type_AUTOMATIC</th>                                   <td>-1.566e+04</td> <td> 2.88e+04</td> <td>   -0.544</td> <td> 0.586</td> <td>-7.21e+04</td> <td> 4.07e+04</td>\n",
       "</tr>\n",
       "<tr>\n",
       "  <th>Transmission Type_DIRECT_DRIVE</th>                                <td>-2.146e+04</td> <td> 3.96e+04</td> <td>   -0.542</td> <td> 0.588</td> <td>-9.91e+04</td> <td> 5.62e+04</td>\n",
       "</tr>\n",
       "<tr>\n",
       "  <th>Transmission Type_MANUAL</th>                                      <td>-2.407e+04</td> <td> 2.84e+04</td> <td>   -0.849</td> <td> 0.396</td> <td>-7.97e+04</td> <td> 3.15e+04</td>\n",
       "</tr>\n",
       "<tr>\n",
       "  <th>Transmission Type_UNKNOWN</th>                                     <td>-7.044e+04</td> <td> 3.64e+04</td> <td>   -1.938</td> <td> 0.053</td> <td>-1.42e+05</td> <td>  820.042</td>\n",
       "</tr>\n",
       "<tr>\n",
       "  <th>Driven_Wheels_all wheel drive</th>                                 <td>-2.406e+04</td> <td> 3.39e+04</td> <td>   -0.710</td> <td> 0.478</td> <td>-9.04e+04</td> <td> 4.23e+04</td>\n",
       "</tr>\n",
       "<tr>\n",
       "  <th>Driven_Wheels_four wheel drive</th>                                <td>-4.252e+04</td> <td>  3.4e+04</td> <td>   -1.252</td> <td> 0.211</td> <td>-1.09e+05</td> <td> 2.41e+04</td>\n",
       "</tr>\n",
       "<tr>\n",
       "  <th>Driven_Wheels_front wheel drive</th>                               <td>-1.999e+04</td> <td> 3.37e+04</td> <td>   -0.593</td> <td> 0.553</td> <td>-8.61e+04</td> <td> 4.61e+04</td>\n",
       "</tr>\n",
       "<tr>\n",
       "  <th>Driven_Wheels_rear wheel drive</th>                                <td>-3.885e+04</td> <td> 3.37e+04</td> <td>   -1.152</td> <td> 0.249</td> <td>-1.05e+05</td> <td> 2.73e+04</td>\n",
       "</tr>\n",
       "<tr>\n",
       "  <th>Vehicle Size_Compact</th>                                          <td>-2.711e+04</td> <td> 4.51e+04</td> <td>   -0.601</td> <td> 0.548</td> <td>-1.16e+05</td> <td> 6.13e+04</td>\n",
       "</tr>\n",
       "<tr>\n",
       "  <th>Vehicle Size_Large</th>                                            <td>-5.045e+04</td> <td> 4.51e+04</td> <td>   -1.119</td> <td> 0.263</td> <td>-1.39e+05</td> <td> 3.79e+04</td>\n",
       "</tr>\n",
       "<tr>\n",
       "  <th>Vehicle Size_Midsize</th>                                          <td>-4.786e+04</td> <td>  4.5e+04</td> <td>   -1.063</td> <td> 0.288</td> <td>-1.36e+05</td> <td> 4.04e+04</td>\n",
       "</tr>\n",
       "</table>\n",
       "<table class=\"simpletable\">\n",
       "<tr>\n",
       "  <th>Omnibus:</th>       <td>13930.692</td> <th>  Durbin-Watson:     </th>   <td>   1.993</td>  \n",
       "</tr>\n",
       "<tr>\n",
       "  <th>Prob(Omnibus):</th>  <td> 0.000</td>   <th>  Jarque-Bera (JB):  </th> <td>42869248.181</td>\n",
       "</tr>\n",
       "<tr>\n",
       "  <th>Skew:</th>           <td>14.641</td>   <th>  Prob(JB):          </th>   <td>    0.00</td>  \n",
       "</tr>\n",
       "<tr>\n",
       "  <th>Kurtosis:</th>       <td>377.897</td>  <th>  Cond. No.          </th>   <td>5.66e+16</td>  \n",
       "</tr>\n",
       "</table><br/><br/>Notes:<br/>[1] Standard Errors assume that the covariance matrix of the errors is correctly specified.<br/>[2] The smallest eigenvalue is 9.37e-24. This might indicate that there are<br/>strong multicollinearity problems or that the design matrix is singular."
      ],
      "text/plain": [
       "<class 'statsmodels.iolib.summary.Summary'>\n",
       "\"\"\"\n",
       "                            OLS Regression Results                            \n",
       "==============================================================================\n",
       "Dep. Variable:                   MSRP   R-squared:                       0.513\n",
       "Model:                            OLS   Adj. R-squared:                  0.512\n",
       "Method:                 Least Squares   F-statistic:                     347.8\n",
       "Date:                Mon, 29 Nov 2021   Prob (F-statistic):               0.00\n",
       "Time:                        18:15:06   Log-Likelihood:                -89031.\n",
       "No. Observations:                7276   AIC:                         1.781e+05\n",
       "Df Residuals:                    7253   BIC:                         1.783e+05\n",
       "Df Model:                          22                                         \n",
       "Covariance Type:            nonrobust                                         \n",
       "=================================================================================================================================\n",
       "                                                                    coef    std err          t      P>|t|      [0.025      0.975]\n",
       "---------------------------------------------------------------------------------------------------------------------------------\n",
       "const                                                         -1.254e+05   1.35e+05     -0.928      0.353    -3.9e+05     1.4e+05\n",
       "Year                                                             45.8704    129.659      0.354      0.724    -208.300     300.040\n",
       "Engine HP                                                       286.2689     12.530     22.846      0.000     261.706     310.832\n",
       "Engine Cylinders                                               1.372e+04    691.877     19.828      0.000    1.24e+04    1.51e+04\n",
       "Number of Doors                                                -502.5436    841.118     -0.597      0.550   -2151.380    1146.293\n",
       "highway MPG                                                     -18.1230    138.289     -0.131      0.896    -289.211     252.965\n",
       "city mpg                                                       1291.6108    183.808      7.027      0.000     931.293    1651.929\n",
       "Engine Fuel Type_diesel                                         731.3560   1.87e+04      0.039      0.969   -3.59e+04    3.74e+04\n",
       "Engine Fuel Type_electric                                     -5.474e+04   3.64e+04     -1.502      0.133   -1.26e+05    1.67e+04\n",
       "Engine Fuel Type_flex-fuel (premium unleaded recommended/E85) -1.164e+04   2.06e+04     -0.564      0.573   -5.21e+04    2.88e+04\n",
       "Engine Fuel Type_flex-fuel (premium unleaded required/E85)    -2157.7792   1.92e+04     -0.112      0.911   -3.98e+04    3.55e+04\n",
       "Engine Fuel Type_flex-fuel (unleaded/E85)                     -2.423e+04   1.88e+04     -1.290      0.197   -6.11e+04    1.26e+04\n",
       "Engine Fuel Type_premium unleaded (recommended)               -1.774e+04   1.85e+04     -0.959      0.337    -5.4e+04    1.85e+04\n",
       "Engine Fuel Type_premium unleaded (required)                    453.5657   1.83e+04      0.025      0.980   -3.53e+04    3.63e+04\n",
       "Engine Fuel Type_regular unleaded                              -1.61e+04   1.82e+04     -0.885      0.376   -5.17e+04    1.96e+04\n",
       "Transmission Type_AUTOMATED_MANUAL                             6207.6604   2.86e+04      0.217      0.828   -4.99e+04    6.23e+04\n",
       "Transmission Type_AUTOMATIC                                   -1.566e+04   2.88e+04     -0.544      0.586   -7.21e+04    4.07e+04\n",
       "Transmission Type_DIRECT_DRIVE                                -2.146e+04   3.96e+04     -0.542      0.588   -9.91e+04    5.62e+04\n",
       "Transmission Type_MANUAL                                      -2.407e+04   2.84e+04     -0.849      0.396   -7.97e+04    3.15e+04\n",
       "Transmission Type_UNKNOWN                                     -7.044e+04   3.64e+04     -1.938      0.053   -1.42e+05     820.042\n",
       "Driven_Wheels_all wheel drive                                 -2.406e+04   3.39e+04     -0.710      0.478   -9.04e+04    4.23e+04\n",
       "Driven_Wheels_four wheel drive                                -4.252e+04    3.4e+04     -1.252      0.211   -1.09e+05    2.41e+04\n",
       "Driven_Wheels_front wheel drive                               -1.999e+04   3.37e+04     -0.593      0.553   -8.61e+04    4.61e+04\n",
       "Driven_Wheels_rear wheel drive                                -3.885e+04   3.37e+04     -1.152      0.249   -1.05e+05    2.73e+04\n",
       "Vehicle Size_Compact                                          -2.711e+04   4.51e+04     -0.601      0.548   -1.16e+05    6.13e+04\n",
       "Vehicle Size_Large                                            -5.045e+04   4.51e+04     -1.119      0.263   -1.39e+05    3.79e+04\n",
       "Vehicle Size_Midsize                                          -4.786e+04    4.5e+04     -1.063      0.288   -1.36e+05    4.04e+04\n",
       "==============================================================================\n",
       "Omnibus:                    13930.692   Durbin-Watson:                   1.993\n",
       "Prob(Omnibus):                  0.000   Jarque-Bera (JB):         42869248.181\n",
       "Skew:                          14.641   Prob(JB):                         0.00\n",
       "Kurtosis:                     377.897   Cond. No.                     5.66e+16\n",
       "==============================================================================\n",
       "\n",
       "Notes:\n",
       "[1] Standard Errors assume that the covariance matrix of the errors is correctly specified.\n",
       "[2] The smallest eigenvalue is 9.37e-24. This might indicate that there are\n",
       "strong multicollinearity problems or that the design matrix is singular.\n",
       "\"\"\""
      ]
     },
     "execution_count": 1035,
     "metadata": {},
     "output_type": "execute_result"
    }
   ],
   "source": [
    "X=train.drop(['MSRP'],axis=1)\n",
    "Y=train[['MSRP']]\n",
    "\n",
    "results=regress(Y,X)\n",
    "results.summary()"
   ]
  },
  {
   "cell_type": "markdown",
   "metadata": {},
   "source": [
    "### Remoção de colunas com valor p > 10%:"
   ]
  },
  {
   "cell_type": "code",
   "execution_count": 1036,
   "metadata": {},
   "outputs": [],
   "source": [
    "X=X.drop(['Year','Number of Doors','highway MPG','Engine Fuel Type_diesel','Engine Fuel Type_electric','Engine Fuel Type_electric','Engine Fuel Type_electric','Engine Fuel Type_flex-fuel (premium unleaded recommended/E85)','Transmission Type_AUTOMATIC','Engine Fuel Type_premium unleaded (required)','Engine Fuel Type_flex-fuel (premium unleaded required/E85)'],axis=1)\n",
    "Y=train[['MSRP']]\n",
    "\n"
   ]
  },
  {
   "cell_type": "markdown",
   "metadata": {},
   "source": [
    "## Regressão Linear"
   ]
  },
  {
   "cell_type": "code",
   "execution_count": 1037,
   "metadata": {},
   "outputs": [
    {
     "name": "stderr",
     "output_type": "stream",
     "text": [
      "D:\\Anaconda3\\lib\\site-packages\\statsmodels\\tsa\\tsatools.py:142: FutureWarning: In a future version of pandas all arguments of concat except for the argument 'objs' will be keyword-only\n",
      "  x = pd.concat(x[::order], 1)\n"
     ]
    },
    {
     "data": {
      "text/html": [
       "<table class=\"simpletable\">\n",
       "<caption>OLS Regression Results</caption>\n",
       "<tr>\n",
       "  <th>Dep. Variable:</th>          <td>MSRP</td>       <th>  R-squared:         </th> <td>   0.513</td> \n",
       "</tr>\n",
       "<tr>\n",
       "  <th>Model:</th>                   <td>OLS</td>       <th>  Adj. R-squared:    </th> <td>   0.512</td> \n",
       "</tr>\n",
       "<tr>\n",
       "  <th>Method:</th>             <td>Least Squares</td>  <th>  F-statistic:       </th> <td>   510.0</td> \n",
       "</tr>\n",
       "<tr>\n",
       "  <th>Date:</th>             <td>Mon, 29 Nov 2021</td> <th>  Prob (F-statistic):</th>  <td>  0.00</td>  \n",
       "</tr>\n",
       "<tr>\n",
       "  <th>Time:</th>                 <td>18:15:06</td>     <th>  Log-Likelihood:    </th> <td> -89033.</td> \n",
       "</tr>\n",
       "<tr>\n",
       "  <th>No. Observations:</th>      <td>  7276</td>      <th>  AIC:               </th> <td>1.781e+05</td>\n",
       "</tr>\n",
       "<tr>\n",
       "  <th>Df Residuals:</th>          <td>  7260</td>      <th>  BIC:               </th> <td>1.782e+05</td>\n",
       "</tr>\n",
       "<tr>\n",
       "  <th>Df Model:</th>              <td>    15</td>      <th>                     </th>     <td> </td>    \n",
       "</tr>\n",
       "<tr>\n",
       "  <th>Covariance Type:</th>      <td>nonrobust</td>    <th>                     </th>     <td> </td>    \n",
       "</tr>\n",
       "</table>\n",
       "<table class=\"simpletable\">\n",
       "<tr>\n",
       "                         <td></td>                            <th>coef</th>     <th>std err</th>      <th>t</th>      <th>P>|t|</th>  <th>[0.025</th>    <th>0.975]</th>  \n",
       "</tr>\n",
       "<tr>\n",
       "  <th>const</th>                                           <td>-7.796e+04</td> <td> 3362.676</td> <td>  -23.183</td> <td> 0.000</td> <td>-8.45e+04</td> <td>-7.14e+04</td>\n",
       "</tr>\n",
       "<tr>\n",
       "  <th>Engine HP</th>                                       <td>  287.9734</td> <td>   10.493</td> <td>   27.443</td> <td> 0.000</td> <td>  267.403</td> <td>  308.544</td>\n",
       "</tr>\n",
       "<tr>\n",
       "  <th>Engine Cylinders</th>                                <td> 1.367e+04</td> <td>  643.471</td> <td>   21.241</td> <td> 0.000</td> <td> 1.24e+04</td> <td> 1.49e+04</td>\n",
       "</tr>\n",
       "<tr>\n",
       "  <th>city mpg</th>                                        <td> 1251.8917</td> <td>  138.438</td> <td>    9.043</td> <td> 0.000</td> <td>  980.513</td> <td> 1523.270</td>\n",
       "</tr>\n",
       "<tr>\n",
       "  <th>Engine Fuel Type_flex-fuel (unleaded/E85)</th>       <td>-2.427e+04</td> <td> 2477.031</td> <td>   -9.799</td> <td> 0.000</td> <td>-2.91e+04</td> <td>-1.94e+04</td>\n",
       "</tr>\n",
       "<tr>\n",
       "  <th>Engine Fuel Type_premium unleaded (recommended)</th> <td>-1.788e+04</td> <td> 1920.965</td> <td>   -9.310</td> <td> 0.000</td> <td>-2.17e+04</td> <td>-1.41e+04</td>\n",
       "</tr>\n",
       "<tr>\n",
       "  <th>Engine Fuel Type_regular unleaded</th>               <td>-1.631e+04</td> <td> 1798.157</td> <td>   -9.071</td> <td> 0.000</td> <td>-1.98e+04</td> <td>-1.28e+04</td>\n",
       "</tr>\n",
       "<tr>\n",
       "  <th>Transmission Type_AUTOMATED_MANUAL</th>              <td> 2.217e+04</td> <td> 2488.943</td> <td>    8.906</td> <td> 0.000</td> <td> 1.73e+04</td> <td>  2.7e+04</td>\n",
       "</tr>\n",
       "<tr>\n",
       "  <th>Transmission Type_DIRECT_DRIVE</th>                  <td>-5.139e+04</td> <td> 1.72e+04</td> <td>   -2.983</td> <td> 0.003</td> <td>-8.52e+04</td> <td>-1.76e+04</td>\n",
       "</tr>\n",
       "<tr>\n",
       "  <th>Transmission Type_MANUAL</th>                        <td>-8362.9368</td> <td> 1720.422</td> <td>   -4.861</td> <td> 0.000</td> <td>-1.17e+04</td> <td>-4990.409</td>\n",
       "</tr>\n",
       "<tr>\n",
       "  <th>Transmission Type_UNKNOWN</th>                       <td>-5.479e+04</td> <td> 2.89e+04</td> <td>   -1.896</td> <td> 0.058</td> <td>-1.11e+05</td> <td> 1856.549</td>\n",
       "</tr>\n",
       "<tr>\n",
       "  <th>Driven_Wheels_all wheel drive</th>                   <td>-1.228e+04</td> <td> 1317.575</td> <td>   -9.322</td> <td> 0.000</td> <td>-1.49e+04</td> <td>-9700.255</td>\n",
       "</tr>\n",
       "<tr>\n",
       "  <th>Driven_Wheels_four wheel drive</th>                  <td>-3.073e+04</td> <td> 2052.749</td> <td>  -14.971</td> <td> 0.000</td> <td>-3.48e+04</td> <td>-2.67e+04</td>\n",
       "</tr>\n",
       "<tr>\n",
       "  <th>Driven_Wheels_front wheel drive</th>                 <td>-8178.3484</td> <td> 1522.507</td> <td>   -5.372</td> <td> 0.000</td> <td>-1.12e+04</td> <td>-5193.792</td>\n",
       "</tr>\n",
       "<tr>\n",
       "  <th>Driven_Wheels_rear wheel drive</th>                  <td>-2.676e+04</td> <td> 1405.744</td> <td>  -19.039</td> <td> 0.000</td> <td>-2.95e+04</td> <td> -2.4e+04</td>\n",
       "</tr>\n",
       "<tr>\n",
       "  <th>Vehicle Size_Compact</th>                            <td>-1.104e+04</td> <td> 1483.998</td> <td>   -7.437</td> <td> 0.000</td> <td>-1.39e+04</td> <td>-8127.331</td>\n",
       "</tr>\n",
       "<tr>\n",
       "  <th>Vehicle Size_Large</th>                              <td>-3.489e+04</td> <td> 1752.307</td> <td>  -19.909</td> <td> 0.000</td> <td>-3.83e+04</td> <td>-3.15e+04</td>\n",
       "</tr>\n",
       "<tr>\n",
       "  <th>Vehicle Size_Midsize</th>                            <td>-3.203e+04</td> <td> 1329.728</td> <td>  -24.091</td> <td> 0.000</td> <td>-3.46e+04</td> <td>-2.94e+04</td>\n",
       "</tr>\n",
       "</table>\n",
       "<table class=\"simpletable\">\n",
       "<tr>\n",
       "  <th>Omnibus:</th>       <td>13919.664</td> <th>  Durbin-Watson:     </th>   <td>   1.994</td>  \n",
       "</tr>\n",
       "<tr>\n",
       "  <th>Prob(Omnibus):</th>  <td> 0.000</td>   <th>  Jarque-Bera (JB):  </th> <td>42666557.464</td>\n",
       "</tr>\n",
       "<tr>\n",
       "  <th>Skew:</th>           <td>14.616</td>   <th>  Prob(JB):          </th>   <td>    0.00</td>  \n",
       "</tr>\n",
       "<tr>\n",
       "  <th>Kurtosis:</th>       <td>377.008</td>  <th>  Cond. No.          </th>   <td>2.62e+18</td>  \n",
       "</tr>\n",
       "</table><br/><br/>Notes:<br/>[1] Standard Errors assume that the covariance matrix of the errors is correctly specified.<br/>[2] The smallest eigenvalue is 9.48e-29. This might indicate that there are<br/>strong multicollinearity problems or that the design matrix is singular."
      ],
      "text/plain": [
       "<class 'statsmodels.iolib.summary.Summary'>\n",
       "\"\"\"\n",
       "                            OLS Regression Results                            \n",
       "==============================================================================\n",
       "Dep. Variable:                   MSRP   R-squared:                       0.513\n",
       "Model:                            OLS   Adj. R-squared:                  0.512\n",
       "Method:                 Least Squares   F-statistic:                     510.0\n",
       "Date:                Mon, 29 Nov 2021   Prob (F-statistic):               0.00\n",
       "Time:                        18:15:06   Log-Likelihood:                -89033.\n",
       "No. Observations:                7276   AIC:                         1.781e+05\n",
       "Df Residuals:                    7260   BIC:                         1.782e+05\n",
       "Df Model:                          15                                         \n",
       "Covariance Type:            nonrobust                                         \n",
       "===================================================================================================================\n",
       "                                                      coef    std err          t      P>|t|      [0.025      0.975]\n",
       "-------------------------------------------------------------------------------------------------------------------\n",
       "const                                           -7.796e+04   3362.676    -23.183      0.000   -8.45e+04   -7.14e+04\n",
       "Engine HP                                         287.9734     10.493     27.443      0.000     267.403     308.544\n",
       "Engine Cylinders                                 1.367e+04    643.471     21.241      0.000    1.24e+04    1.49e+04\n",
       "city mpg                                         1251.8917    138.438      9.043      0.000     980.513    1523.270\n",
       "Engine Fuel Type_flex-fuel (unleaded/E85)       -2.427e+04   2477.031     -9.799      0.000   -2.91e+04   -1.94e+04\n",
       "Engine Fuel Type_premium unleaded (recommended) -1.788e+04   1920.965     -9.310      0.000   -2.17e+04   -1.41e+04\n",
       "Engine Fuel Type_regular unleaded               -1.631e+04   1798.157     -9.071      0.000   -1.98e+04   -1.28e+04\n",
       "Transmission Type_AUTOMATED_MANUAL               2.217e+04   2488.943      8.906      0.000    1.73e+04     2.7e+04\n",
       "Transmission Type_DIRECT_DRIVE                  -5.139e+04   1.72e+04     -2.983      0.003   -8.52e+04   -1.76e+04\n",
       "Transmission Type_MANUAL                        -8362.9368   1720.422     -4.861      0.000   -1.17e+04   -4990.409\n",
       "Transmission Type_UNKNOWN                       -5.479e+04   2.89e+04     -1.896      0.058   -1.11e+05    1856.549\n",
       "Driven_Wheels_all wheel drive                   -1.228e+04   1317.575     -9.322      0.000   -1.49e+04   -9700.255\n",
       "Driven_Wheels_four wheel drive                  -3.073e+04   2052.749    -14.971      0.000   -3.48e+04   -2.67e+04\n",
       "Driven_Wheels_front wheel drive                 -8178.3484   1522.507     -5.372      0.000   -1.12e+04   -5193.792\n",
       "Driven_Wheels_rear wheel drive                  -2.676e+04   1405.744    -19.039      0.000   -2.95e+04    -2.4e+04\n",
       "Vehicle Size_Compact                            -1.104e+04   1483.998     -7.437      0.000   -1.39e+04   -8127.331\n",
       "Vehicle Size_Large                              -3.489e+04   1752.307    -19.909      0.000   -3.83e+04   -3.15e+04\n",
       "Vehicle Size_Midsize                            -3.203e+04   1329.728    -24.091      0.000   -3.46e+04   -2.94e+04\n",
       "==============================================================================\n",
       "Omnibus:                    13919.664   Durbin-Watson:                   1.994\n",
       "Prob(Omnibus):                  0.000   Jarque-Bera (JB):         42666557.464\n",
       "Skew:                          14.616   Prob(JB):                         0.00\n",
       "Kurtosis:                     377.008   Cond. No.                     2.62e+18\n",
       "==============================================================================\n",
       "\n",
       "Notes:\n",
       "[1] Standard Errors assume that the covariance matrix of the errors is correctly specified.\n",
       "[2] The smallest eigenvalue is 9.48e-29. This might indicate that there are\n",
       "strong multicollinearity problems or that the design matrix is singular.\n",
       "\"\"\""
      ]
     },
     "execution_count": 1037,
     "metadata": {},
     "output_type": "execute_result"
    }
   ],
   "source": [
    "results=regress(Y,X)\n",
    "results.summary()"
   ]
  },
  {
   "cell_type": "markdown",
   "metadata": {},
   "source": [
    "## Regressão em árvore:"
   ]
  },
  {
   "cell_type": "code",
   "execution_count": 1038,
   "metadata": {},
   "outputs": [],
   "source": [
    "X=test.drop(['MSRP','Year','Number of Doors','highway MPG','Engine Fuel Type_diesel','Engine Fuel Type_electric','Engine Fuel Type_electric','Engine Fuel Type_electric','Engine Fuel Type_flex-fuel (premium unleaded recommended/E85)','Transmission Type_AUTOMATIC','Engine Fuel Type_premium unleaded (required)','Engine Fuel Type_flex-fuel (premium unleaded required/E85)'],axis=1)\n",
    "Y=test['MSRP']"
   ]
  },
  {
   "cell_type": "code",
   "execution_count": 1039,
   "metadata": {},
   "outputs": [
    {
     "data": {
      "text/plain": [
       "DecisionTreeRegressor(random_state=0)"
      ]
     },
     "execution_count": 1039,
     "metadata": {},
     "output_type": "execute_result"
    }
   ],
   "source": [
    "regressor = DecisionTreeRegressor(random_state = 0) \n",
    "\n",
    "regressor.fit(X, Y)"
   ]
  },
  {
   "cell_type": "markdown",
   "metadata": {},
   "source": [
    "## Testes:"
   ]
  },
  {
   "cell_type": "code",
   "execution_count": 1040,
   "metadata": {},
   "outputs": [],
   "source": [
    "tree_pred = regressor.predict(X)\n",
    "\n",
    "linear_y=results.predict(test.drop(['Year','Number of Doors','highway MPG','Engine Fuel Type_diesel','Engine Fuel Type_electric','Engine Fuel Type_electric','Engine Fuel Type_electric','Engine Fuel Type_flex-fuel (premium unleaded recommended/E85)','Transmission Type_AUTOMATIC','Engine Fuel Type_premium unleaded (required)','Engine Fuel Type_flex-fuel (premium unleaded required/E85)'],axis=1))\n",
    "\n",
    "tree_pred=pd.Series(tree_pred)\n",
    "\n",
    "df=pd.DataFrame({'MSRP(test)':test['MSRP'],'Preço(tree)':tree_pred,'Razão(tree)':tree_pred/test['MSRP'],'Preço':linear_y,'Razão(linear)':linear_y/test['MSRP']})"
   ]
  },
  {
   "cell_type": "code",
   "execution_count": 1041,
   "metadata": {},
   "outputs": [
    {
     "data": {
      "text/html": [
       "<div>\n",
       "<style scoped>\n",
       "    .dataframe tbody tr th:only-of-type {\n",
       "        vertical-align: middle;\n",
       "    }\n",
       "\n",
       "    .dataframe tbody tr th {\n",
       "        vertical-align: top;\n",
       "    }\n",
       "\n",
       "    .dataframe thead th {\n",
       "        text-align: right;\n",
       "    }\n",
       "</style>\n",
       "<table border=\"1\" class=\"dataframe\">\n",
       "  <thead>\n",
       "    <tr style=\"text-align: right;\">\n",
       "      <th></th>\n",
       "      <th>MSRP(test)</th>\n",
       "      <th>Preço(tree)</th>\n",
       "      <th>Razão(tree)</th>\n",
       "      <th>Preço</th>\n",
       "      <th>Razão(linear)</th>\n",
       "    </tr>\n",
       "  </thead>\n",
       "  <tbody>\n",
       "    <tr>\n",
       "      <th>count</th>\n",
       "      <td>65.000000</td>\n",
       "      <td>65.000000</td>\n",
       "      <td>65.000000</td>\n",
       "      <td>6.500000e+01</td>\n",
       "      <td>65.000000</td>\n",
       "    </tr>\n",
       "    <tr>\n",
       "      <th>mean</th>\n",
       "      <td>53519.969231</td>\n",
       "      <td>61542.717949</td>\n",
       "      <td>8.051828</td>\n",
       "      <td>4.667032e+07</td>\n",
       "      <td>-585.906974</td>\n",
       "    </tr>\n",
       "    <tr>\n",
       "      <th>std</th>\n",
       "      <td>87257.370808</td>\n",
       "      <td>76530.744759</td>\n",
       "      <td>19.349862</td>\n",
       "      <td>1.019012e+08</td>\n",
       "      <td>2480.480542</td>\n",
       "    </tr>\n",
       "    <tr>\n",
       "      <th>min</th>\n",
       "      <td>2000.000000</td>\n",
       "      <td>2000.000000</td>\n",
       "      <td>0.041537</td>\n",
       "      <td>-1.909128e+07</td>\n",
       "      <td>-7257.560711</td>\n",
       "    </tr>\n",
       "    <tr>\n",
       "      <th>25%</th>\n",
       "      <td>7600.000000</td>\n",
       "      <td>25330.000000</td>\n",
       "      <td>0.567502</td>\n",
       "      <td>-6.743511e+06</td>\n",
       "      <td>-1641.955555</td>\n",
       "    </tr>\n",
       "    <tr>\n",
       "      <th>50%</th>\n",
       "      <td>38680.000000</td>\n",
       "      <td>38100.000000</td>\n",
       "      <td>1.000000</td>\n",
       "      <td>2.771742e+07</td>\n",
       "      <td>742.042029</td>\n",
       "    </tr>\n",
       "    <tr>\n",
       "      <th>75%</th>\n",
       "      <td>50200.000000</td>\n",
       "      <td>63060.000000</td>\n",
       "      <td>5.152140</td>\n",
       "      <td>4.074290e+07</td>\n",
       "      <td>850.941990</td>\n",
       "    </tr>\n",
       "    <tr>\n",
       "      <th>max</th>\n",
       "      <td>455500.000000</td>\n",
       "      <td>418950.000000</td>\n",
       "      <td>100.452117</td>\n",
       "      <td>5.211240e+08</td>\n",
       "      <td>1144.070293</td>\n",
       "    </tr>\n",
       "  </tbody>\n",
       "</table>\n",
       "</div>"
      ],
      "text/plain": [
       "          MSRP(test)    Preço(tree)  Razão(tree)         Preço  Razão(linear)\n",
       "count      65.000000      65.000000    65.000000  6.500000e+01      65.000000\n",
       "mean    53519.969231   61542.717949     8.051828  4.667032e+07    -585.906974\n",
       "std     87257.370808   76530.744759    19.349862  1.019012e+08    2480.480542\n",
       "min      2000.000000    2000.000000     0.041537 -1.909128e+07   -7257.560711\n",
       "25%      7600.000000   25330.000000     0.567502 -6.743511e+06   -1641.955555\n",
       "50%     38680.000000   38100.000000     1.000000  2.771742e+07     742.042029\n",
       "75%     50200.000000   63060.000000     5.152140  4.074290e+07     850.941990\n",
       "max    455500.000000  418950.000000   100.452117  5.211240e+08    1144.070293"
      ]
     },
     "execution_count": 1041,
     "metadata": {},
     "output_type": "execute_result"
    }
   ],
   "source": [
    "df=df.dropna()\n",
    "df.describe()"
   ]
  },
  {
   "cell_type": "code",
   "execution_count": null,
   "metadata": {},
   "outputs": [],
   "source": []
  }
 ],
 "metadata": {
  "interpreter": {
   "hash": "5f64f01a6cdb813bd23f3c2980301e513b65108ef9650403b1a46775be8a9390"
  },
  "kernelspec": {
   "display_name": "Python 3",
   "language": "python",
   "name": "python3"
  },
  "language_info": {
   "codemirror_mode": {
    "name": "ipython",
    "version": 3
   },
   "file_extension": ".py",
   "mimetype": "text/x-python",
   "name": "python",
   "nbconvert_exporter": "python",
   "pygments_lexer": "ipython3",
   "version": "3.8.8"
  }
 },
 "nbformat": 4,
 "nbformat_minor": 2
}
